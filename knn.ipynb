{
 "cells": [
  {
   "cell_type": "code",
   "execution_count": 1,
   "metadata": {},
   "outputs": [],
   "source": [
    "import numpy as np \n",
    "import matplotlib.pyplot as plt\n",
    "import random as ran\n",
    "from sklearn.metrics.pairwise import cosine_similarity\n",
    "import pandas as pd \n",
    "from csv import reader"
   ]
  },
  {
   "cell_type": "markdown",
   "metadata": {},
   "source": [
    "# 1. Helper Methods\n",
    "\n",
    "This block defines the helper functions that are need to implment the K-means algorithm.\n",
    "1. test_dev_split() :- Is used to split the data randomly using split_val between 0 and 1.\n",
    "2. calculate_distance() :- Is used to calculate disatance using 'euclidean' , 'normalized Euclidean ' or 'cosine similarity'. \n",
    "3. KNN_neighbors_list_For() : It is used to create a list of all the K neighbors using the calculated distance .\n",
    "4. predict() : It is use to predict the ouput using the given inputs.\n",
    "5. k_neighbors() : It is used append the prediction with the corresponding values that were used to make the prediction."
   ]
  },
  {
   "cell_type": "code",
   "execution_count": 2,
   "metadata": {},
   "outputs": [],
   "source": [
    "# To split the data randomly into testing data and development data\n",
    "def test_dev_split(data , split_val = 0.7):\n",
    "    test_data = list(data)\n",
    "    dev_data = list()\n",
    "    database_len = len(list(data))\n",
    "    \n",
    "    dev_size = split_val* database_len\n",
    "    test_size  = (1-split_val)* database_len\n",
    "   \n",
    "    while len(dev_data) < dev_size:\n",
    "        ind = ran.randrange(database_len)\n",
    "        dev_data.append(test_data[ind])\n",
    "        test_data.pop(ind)\n",
    "        database_len -= 1\n",
    "    \n",
    "    return dev_data ,test_data\n",
    "\n",
    "# To calculate the distance between points \n",
    "def calculate_distance(list1,list2,Method):\n",
    "    distance = 0.0 \n",
    "    \n",
    "    if Method == \"euclidean\":\n",
    "        for i in range(len(list1)-1):\n",
    "            distance += np.square(list1[i] - list2[i])\n",
    "        return np.sqrt(distance)\n",
    "   \n",
    "    elif Method == \"normalizedeuclidean\":\n",
    "        for i in range(len(list1)-1):\n",
    "            distance += np.square(list1[i] - list2[i])\n",
    "        return np.sqrt(distance/(len(list1)))\n",
    "    \n",
    "    elif Method == \"cosine\":\n",
    "        cos_distance = np.dot(list1,list2[0:4]) / (np.linalg.norm(list1) * np.linalg.norm(list2[0:4]) )\n",
    "        return (1-cos_distance)\n",
    "    \n",
    "# To find 'k' nearest neighbors between two lists              \n",
    "def KNN_neighbors_list_For(list1 , list2 , distance_method , k ):\n",
    "    distance = list()\n",
    "    for row in list1:\n",
    "        distance.append((row ,calculate_distance(list2 , row , distance_method)))\n",
    "    distance.sort(key=lambda tup: tup[1])\n",
    "    neighbors = list()\n",
    "    for i in range(k):\n",
    "        neighbors.append(distance[i][0])\n",
    "        \n",
    "    return neighbors\n",
    "\n",
    "# To predict the value between two lists  \n",
    "def predict(list1, list2, distance_method, k):\n",
    "    neighbors = KNN_neighbors_list_For(list1, list2, distance_method ,k)\n",
    "    values = [row[-1] for row in neighbors]\n",
    "    prediction = max(set(values), key=values.count)\n",
    "    return prediction\n",
    "\n",
    "# To append the prediction with its corresponding values\n",
    "def k_neighbors(list1, list2, distance_method,k):\n",
    "    predictions = list()\n",
    "    for row in list2:\n",
    "        output = predict(list1, row,distance_method ,k)\n",
    "        predictions.append(output)\n",
    "    return(predictions)      "
   ]
  },
  {
   "cell_type": "markdown",
   "metadata": {},
   "source": [
    "# 2. Evaluation Methods \n",
    "\n",
    "These methods are used to calculate the accuracy of the dataset."
   ]
  },
  {
   "cell_type": "code",
   "execution_count": 3,
   "metadata": {},
   "outputs": [],
   "source": [
    "\n",
    "# Calculate accuracy percentage\n",
    "def accuracy_metric(actual, predicted):\n",
    "    correct = 0\n",
    "    for i in range(len(actual)):\n",
    "        if actual[i] == predicted[i]:\n",
    "            correct += 1\n",
    "    return correct / float(len(actual)) * 100.0\n",
    " \n",
    "# Evaluate an algorithm \n",
    "def evaluate_algorithm(dev_data, test_data, distance_method, k):\n",
    "\n",
    "    test_d = list()\n",
    "    for row in test_data:\n",
    "        row_copy = list(row)\n",
    "        test_d.append(row_copy)\n",
    "        row_copy.pop(-1)\n",
    "    \n",
    "    predicted = k_neighbors(dev_data, test_d,distance_method,k)\n",
    "    actual = [row[-1] for row in test_data]\n",
    "    accuracy = accuracy_metric(actual, predicted)\n",
    "    return accuracy"
   ]
  },
  {
   "cell_type": "markdown",
   "metadata": {},
   "source": [
    "# 3. Data Pre-processing Methods\n",
    "\n",
    "These methods are used to read the data using inbuilt file reader and prepare it for the computer. The data must be processed so that it can be understood by the machine. The string data must be converted into int and float values so that it can be understood by the computer."
   ]
  },
  {
   "cell_type": "code",
   "execution_count": 4,
   "metadata": {},
   "outputs": [],
   "source": [
    "def convert_csv_to_list():\n",
    "    file = open(\"iris.data\", \"r\")\n",
    "    lines = reader(file)\n",
    "    return list(lines)\n",
    "\n",
    "def prepare_data(dataset):\n",
    "    for row in dataset:\n",
    "        for i in range(4):\n",
    "            row[i] = float(row[i].strip())           \n",
    "    class_values = [row[4] for row in dataset]\n",
    "    dict_data = dict()\n",
    "    for i, value in enumerate(set(class_values)):\n",
    "        dict_data[value] = i\n",
    "    for row in dataset:\n",
    "        row[4] = dict_data[row[4]]\n",
    "\n",
    "    return dataset,dict_data"
   ]
  },
  {
   "cell_type": "markdown",
   "metadata": {},
   "source": [
    "# 4. Implementing the Algorithm "
   ]
  },
  {
   "cell_type": "code",
   "execution_count": 5,
   "metadata": {},
   "outputs": [],
   "source": [
    "dataset = convert_csv_to_list()\n",
    "dataset.pop(-1)\n",
    "dat,dic = prepare_data(dataset)   \n",
    "K_values = [1,3,5,7]\n",
    "Distance_methods = [\"euclidean\",\"normalizedeuclidean\" ,\"cosine\"]\n",
    "dev_data ,test_data = test_dev_split(dataset)\n",
    "dev_data_train , dev_data_test = test_dev_split(dev_data,split_val = 0.6)"
   ]
  },
  {
   "cell_type": "markdown",
   "metadata": {},
   "source": [
    "## 4.1 Using Euclidean Distance"
   ]
  },
  {
   "cell_type": "code",
   "execution_count": 6,
   "metadata": {},
   "outputs": [],
   "source": [
    "Accuracy_e = []\n",
    "Accuracy_e.append(evaluate_algorithm(dev_data_train,dev_data_test,Distance_methods[0],K_values[0]))\n",
    "Accuracy_e.append(evaluate_algorithm(dev_data_train,dev_data_test,Distance_methods[0],K_values[1]))\n",
    "Accuracy_e.append(evaluate_algorithm(dev_data_train,dev_data_test,Distance_methods[0],K_values[2]))\n",
    "Accuracy_e.append(evaluate_algorithm(dev_data_train,dev_data_test,Distance_methods[0],K_values[3]))"
   ]
  },
  {
   "cell_type": "markdown",
   "metadata": {},
   "source": [
    "## 4.2 Using Normalized Euclidean Distance"
   ]
  },
  {
   "cell_type": "code",
   "execution_count": 7,
   "metadata": {},
   "outputs": [],
   "source": [
    "Accuracy_ne = []\n",
    "Accuracy_ne.append(evaluate_algorithm(dev_data_train,dev_data_test,Distance_methods[1],K_values[0]))\n",
    "Accuracy_ne.append(evaluate_algorithm(dev_data_train,dev_data_test,Distance_methods[1],K_values[1]))\n",
    "Accuracy_ne.append( evaluate_algorithm(dev_data_train,dev_data_test,Distance_methods[1],K_values[2]))\n",
    "Accuracy_ne.append(evaluate_algorithm(dev_data_train,dev_data_test,Distance_methods[1],K_values[3]))"
   ]
  },
  {
   "cell_type": "markdown",
   "metadata": {},
   "source": [
    "## 4.3 Using Cosine Similarity"
   ]
  },
  {
   "cell_type": "code",
   "execution_count": 8,
   "metadata": {},
   "outputs": [],
   "source": [
    "Accuracy_c = []\n",
    "Accuracy_c.append(evaluate_algorithm(dev_data_train,dev_data_test,Distance_methods[2],K_values[0]))\n",
    "Accuracy_c.append(evaluate_algorithm(dev_data_train,dev_data_test,Distance_methods[2],K_values[1]))\n",
    "Accuracy_c.append( evaluate_algorithm(dev_data_train,dev_data_test,Distance_methods[2],K_values[2]))\n",
    "Accuracy_c.append(evaluate_algorithm(dev_data_train,dev_data_test,Distance_methods[2],K_values[3]))"
   ]
  },
  {
   "cell_type": "markdown",
   "metadata": {},
   "source": [
    "## 5. Data visualization\n",
    "\n",
    "This code is used to create graphs in order to visualize the data. Visualizing the data help us better understand the result. "
   ]
  },
  {
   "cell_type": "code",
   "execution_count": 9,
   "metadata": {},
   "outputs": [
    {
     "data": {
      "image/png": "[encoded data removed]",
      "text/plain": [
       "<Figure size 432x288 with 1 Axes>"
      ]
     },
     "metadata": {
      "needs_background": "light"
     },
     "output_type": "display_data"
    },
    {
     "data": {
      "image/png": "[encoded data removed]",
      "text/plain": [
       "<Figure size 432x288 with 1 Axes>"
      ]
     },
     "metadata": {
      "needs_background": "light"
     },
     "output_type": "display_data"
    },
    {
     "data": {
      "image/png": "[encoded data removed]",
      "text/plain": [
       "<Figure size 432x288 with 1 Axes>"
      ]
     },
     "metadata": {
      "needs_background": "light"
     },
     "output_type": "display_data"
    }
   ],
   "source": [
    "Accuracy_e = np.array(Accuracy_e ,dtype=float).reshape(4)\n",
    "Accuracy_c = np.array(Accuracy_c ,dtype=float).reshape(4)\n",
    "Accuracy_ne = np.array(Accuracy_ne ,dtype=float).reshape(4)\n",
    "\n",
    "\n",
    "ax = plt.subplot(1, 1, 1)\n",
    "e = ax.bar(np.array(K_values) , height= Accuracy_e , color='b', align='center',label =\"Euclidean \")\n",
    "ax.legend(loc='upper center', bbox_to_anchor=(0.5, -0.15), shadow=True, ncol=3)\n",
    "plt.grid()\n",
    "plt.title(\" K vs Accuracy for Euclidean distance \")\n",
    "plt.ylabel('Accuracy')\n",
    "plt.xlabel('K Value')\n",
    "plt.show()\n",
    "\n",
    "\n",
    "ax = plt.subplot(1, 1, 1)\n",
    "en = ax.bar(np.array(K_values), height= Accuracy_ne , color='g', align='center',label =\"Normalized euclidean\")\n",
    "ax.legend(loc='upper center', bbox_to_anchor=(0.5, -0.15), shadow=True, ncol=3)\n",
    "plt.grid()\n",
    "plt.title(\"K vs Accuracy for  Normalized euclidean distance\")\n",
    "plt.ylabel('Accuracy')\n",
    "plt.xlabel('K Value')\n",
    "plt.show()\n",
    "\n",
    "\n",
    "ax = plt.subplot(1, 1, 1)\n",
    "c = ax.bar(np.array(K_values), height= Accuracy_c, color='r', align='center',label =\"Cosine\")\n",
    "ax.legend(loc='upper center', bbox_to_anchor=(0.5, -0.15), shadow=True, ncol=3)\n",
    "plt.grid()\n",
    "plt.title(\"K vs Accuracy for Cosine similarity\")\n",
    "plt.ylabel('Accuracy')\n",
    "plt.xlabel('K Value')\n",
    "plt.show()"
   ]
  },
  {
   "cell_type": "code",
   "execution_count": 10,
   "metadata": {},
   "outputs": [
    {
     "data": {
      "image/png": "[encoded data removed]",
      "text/plain": [
       "<Figure size 432x288 with 1 Axes>"
      ]
     },
     "metadata": {
      "needs_background": "light"
     },
     "output_type": "display_data"
    }
   ],
   "source": [
    "ax = plt.subplot(111)\n",
    "e = ax.bar(np.array(K_values) -0.4 , height= Accuracy_e ,width=0.4, color='b', align='center',label =\"Euclidean\")\n",
    "en = ax.bar(np.array(K_values), height= Accuracy_ne ,width=0.4, color='g', align='center',label =\"Normalized euclidean\")\n",
    "c = ax.bar(np.array(K_values)+0.4, height= Accuracy_c,width=0.4, color='r', align='center',label =\"Cosine\")\n",
    "ax.legend(loc='upper center', bbox_to_anchor=(0.5, -0.15), shadow=True, ncol=3)\n",
    "plt.title(\"Euclidean vs Normalized euclidean vs Cosine\")\n",
    "plt.grid()\n",
    "plt.ylabel('Accuracy')\n",
    "plt.xlabel('K Value')\n",
    "plt.show()"
   ]
  },
  {
   "cell_type": "markdown",
   "metadata": {},
   "source": [
    "# 6. Running on Training Set\n",
    "\n",
    "## Selected Hyperparameters\n",
    "1. Distance Metric used is found using the Cosine Similarity\n",
    "2. K value used is 5."
   ]
  },
  {
   "cell_type": "code",
   "execution_count": 34,
   "metadata": {},
   "outputs": [
    {
     "name": "stdout",
     "output_type": "stream",
     "text": [
      "By Using Cosine similarity and K value equals 7 hyperparameters\n",
      "I got 95.556%. accuracy \n"
     ]
    }
   ],
   "source": [
    "\n",
    "\n",
    "\n",
    "Final_accuracy = evaluate_algorithm(dev_data,test_data,Distance_methods[2],K_values[2])\n",
    "print(\"By Using Cosine similarity and K value equals 7 hyperparameters\")\n",
    "print(str(\"I got %.3f%%. accuracy \" % Final_accuracy))"
   ]
  }
 ],
 "metadata": {
  "kernelspec": {
   "display_name": "Python 3",
   "language": "python",
   "name": "python3"
  },
  "language_info": {
   "codemirror_mode": {
    "name": "ipython",
    "version": 3
   },
   "file_extension": ".py",
   "mimetype": "text/x-python",
   "name": "python",
   "nbconvert_exporter": "python",
   "pygments_lexer": "ipython3",
   "version": "3.7.6"
  }
 },
 "nbformat": 4,
 "nbformat_minor": 4
}
